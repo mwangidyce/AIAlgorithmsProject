{
  "nbformat": 4,
  "nbformat_minor": 0,
  "metadata": {
    "colab": {
      "name": "Recsys.ipynb",
      "provenance": [],
      "authorship_tag": "ABX9TyP/EjXh86SrlEHusRDKsswJ",
      "include_colab_link": true
    },
    "kernelspec": {
      "name": "python3",
      "display_name": "Python 3"
    },
    "language_info": {
      "name": "python"
    }
  },
  "cells": [
    {
      "cell_type": "markdown",
      "metadata": {
        "id": "view-in-github",
        "colab_type": "text"
      },
      "source": [
        "<a href=\"https://colab.research.google.com/github/mwangidyce/AIAlgorithmsProject/blob/master/Recsys_Lawrence.ipynb\" target=\"_parent\"><img src=\"https://colab.research.google.com/assets/colab-badge.svg\" alt=\"Open In Colab\"/></a>"
      ]
    },
    {
      "cell_type": "code",
      "metadata": {
        "id": "ecoGR4JYMp5d"
      },
      "source": [
        "# from google.colab import drive\n",
        "# drive.mount(\"/content/drive\")\n",
        "!unzip recsys_data.zip"
      ],
      "execution_count": null,
      "outputs": []
    },
    {
      "cell_type": "code",
      "metadata": {
        "colab": {
          "base_uri": "https://localhost:8080/"
        },
        "id": "1tekPV3JS_gv",
        "outputId": "bbe48fa0-3762-4fd5-8f2b-543d8b8cf20d"
      },
      "source": [
        "import nltk\n",
        "nltk.download(\"punkt\")"
      ],
      "execution_count": 9,
      "outputs": [
        {
          "output_type": "stream",
          "name": "stdout",
          "text": [
            "[nltk_data] Downloading package punkt to /root/nltk_data...\n",
            "[nltk_data]   Package punkt is already up-to-date!\n"
          ]
        },
        {
          "output_type": "execute_result",
          "data": {
            "text/plain": [
              "True"
            ]
          },
          "metadata": {},
          "execution_count": 9
        }
      ]
    },
    {
      "cell_type": "code",
      "metadata": {
        "id": "wB8mIrOzNemj"
      },
      "source": [
        "from pathlib import Path\n",
        "import time\n",
        "import pickle\n",
        "base_path = Path(\"./data\") \n",
        "choices = [base_path / \"Resume_Files\", base_path / \"JD_Files\"]\n",
        "words = set()\n",
        "file_number = 0\n",
        "resume_file_number = len(list(choices[0].iterdir()))\n",
        "jd_file_number = len(list(choices[1].iterdir()))\n",
        "print(f\"Job description files {jd_file_number}\")\n",
        "print(f\"Resume file numbers, {resume_file_number}, \\n \\n\")\n",
        "\n",
        "for each in choices:\n",
        "  for corpus_file in each.iterdir():\n",
        "    tic = time.perf_counter()\n",
        "    with open(corpus_file, \"r\", encoding=\"utf-8\") as f:\n",
        "      # Use update to automatically add iterable instead of append that adds a single element at a time\n",
        "        words.update(nltk.word_tokenize(f.read()))\n",
        "    toc = time.perf_counter()\n",
        "    file_number += 1\n",
        "    # For performance reasons only print and update pickle after every 1000 files are processed. Printing and pickling is abit slow\n",
        "    if (file_number % 1000 == 0):\n",
        "      print(f\"Total vocabulary size at {len(words)}, File Number {file_number} \\n\")\n",
        "      print(f\"{tic-toc:0.4f} seconds\")\n",
        "      with open(\"recsys.pickle\", \"wb\") as pf:\n",
        "        pickle.dump({\"file_number\":file_number}, pf, protocol=pickle.HIGHEST_PROTOCOL)\n",
        "        pickle.dump({\"vocab\":words}, pf, protocol=pickle.HIGHEST_PROTOCOL)\n",
        "        pickle.dump({\"vocab_length\":len(words)}, pf, protocol=pickle.HIGHEST_PROTOCOL)\n",
        "    \n",
        "\n",
        "# Unpickle below\n",
        "# with open(\"recsys.pickle\",\"rb\") as pf:\n",
        "#   print(pickle.load(pf))\n",
        "#   print(pickle.load(pf))\n",
        "#   print(pickle.load(pf))\n",
        "\n"
      ],
      "execution_count": null,
      "outputs": []
    }
  ]
}